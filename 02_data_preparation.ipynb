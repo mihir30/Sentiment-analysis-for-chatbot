{
 "cells": [
  {
   "cell_type": "markdown",
   "metadata": {},
   "source": [
    "# Data preparation"
   ]
  },
  {
   "cell_type": "markdown",
   "metadata": {},
   "source": [
    "For the purposes of Machine Learning methods, we usually need to convert the dataset to the mathematical vector, where each dimension defines a different feature. In our case, we need to find a good way of encoding given tweet in such form. There are several possible ways of doing that, but first of all let's dive into the dataset and see if there is anything we can do to improve the quality of the messages we have.\n",
    "\n",
    "As humans, we don't see any difference between capital and small letters, but for a computer such words would be seen as completely different ones. There are several other corrections we probably need to apply, as our datset is written by some random people, who often don't care about grammatical correctness, etc. Let's then analyze the dataset we have and see if we can correct some common issues."
   ]
  },
  {
   "cell_type": "code",
   "execution_count": 1,
   "metadata": {
    "ExecuteTime": {
     "end_time": "2019-12-03T09:28:15.523095Z",
     "start_time": "2019-12-03T09:28:15.087891Z"
    }
   },
   "outputs": [],
   "source": [
    "%store -r tweets"
   ]
  },
  {
   "cell_type": "markdown",
   "metadata": {},
   "source": [
    "As a first step, we are going to analyze the frequencies of all the words."
   ]
  },
  {
   "cell_type": "code",
   "execution_count": 2,
   "metadata": {
    "ExecuteTime": {
     "end_time": "2019-12-03T09:28:16.380378Z",
     "start_time": "2019-12-03T09:28:16.305835Z"
    }
   },
   "outputs": [
    {
     "data": {
      "text/plain": [
       "0             [@VirginAmerica, What, @dhepburn, said.]\n",
       "1    [@VirginAmerica, plus, you've, added, commerci...\n",
       "2    [@VirginAmerica, I, didn't, today..., Must, me...\n",
       "3    [@VirginAmerica, it's, really, aggressive, to,...\n",
       "4    [@VirginAmerica, and, it's, a, really, big, ba...\n",
       "Name: text, dtype: object"
      ]
     },
     "execution_count": 2,
     "metadata": {},
     "output_type": "execute_result"
    }
   ],
   "source": [
    "# Divide each tweet by its words\n",
    "tweet_words = tweets[\"text\"].str.split()\n",
    "tweet_words.head()"
   ]
  },
  {
   "cell_type": "markdown",
   "metadata": {},
   "source": [
    "For each tweet we received a list of its words, but to analyze global frequencies, we need to combine all the lists together."
   ]
  },
  {
   "cell_type": "code",
   "execution_count": 3,
   "metadata": {
    "ExecuteTime": {
     "end_time": "2019-12-03T09:28:21.456707Z",
     "start_time": "2019-12-03T09:28:18.036720Z"
    }
   },
   "outputs": [
    {
     "data": {
      "text/html": [
       "<div>\n",
       "<style scoped>\n",
       "    .dataframe tbody tr th:only-of-type {\n",
       "        vertical-align: middle;\n",
       "    }\n",
       "\n",
       "    .dataframe tbody tr th {\n",
       "        vertical-align: top;\n",
       "    }\n",
       "\n",
       "    .dataframe thead th {\n",
       "        text-align: right;\n",
       "    }\n",
       "</style>\n",
       "<table border=\"1\" class=\"dataframe\">\n",
       "  <thead>\n",
       "    <tr style=\"text-align: right;\">\n",
       "      <th></th>\n",
       "      <th>word</th>\n",
       "    </tr>\n",
       "  </thead>\n",
       "  <tbody>\n",
       "    <tr>\n",
       "      <th>0</th>\n",
       "      <td>@VirginAmerica</td>\n",
       "    </tr>\n",
       "    <tr>\n",
       "      <th>1</th>\n",
       "      <td>What</td>\n",
       "    </tr>\n",
       "    <tr>\n",
       "      <th>2</th>\n",
       "      <td>@dhepburn</td>\n",
       "    </tr>\n",
       "    <tr>\n",
       "      <th>3</th>\n",
       "      <td>said.</td>\n",
       "    </tr>\n",
       "    <tr>\n",
       "      <th>4</th>\n",
       "      <td>@VirginAmerica</td>\n",
       "    </tr>\n",
       "  </tbody>\n",
       "</table>\n",
       "</div>"
      ],
      "text/plain": [
       "             word\n",
       "0  @VirginAmerica\n",
       "1            What\n",
       "2       @dhepburn\n",
       "3           said.\n",
       "4  @VirginAmerica"
      ]
     },
     "execution_count": 3,
     "metadata": {},
     "output_type": "execute_result"
    }
   ],
   "source": [
    "import pandas as pd\n",
    "\n",
    "# Chain all the lists into one Series object\n",
    "words = tweet_words.apply(pd.Series)\\\n",
    "                   .stack()\\\n",
    "                   .reset_index(drop=True)\\\n",
    "                   .to_frame(name=\"word\")\n",
    "words.head()"
   ]
  },
  {
   "cell_type": "code",
   "execution_count": 4,
   "metadata": {
    "ExecuteTime": {
     "end_time": "2019-12-03T09:28:21.547715Z",
     "start_time": "2019-12-03T09:28:21.458206Z"
    }
   },
   "outputs": [
    {
     "data": {
      "text/html": [
       "<div>\n",
       "<style scoped>\n",
       "    .dataframe tbody tr th:only-of-type {\n",
       "        vertical-align: middle;\n",
       "    }\n",
       "\n",
       "    .dataframe tbody tr th {\n",
       "        vertical-align: top;\n",
       "    }\n",
       "\n",
       "    .dataframe thead th {\n",
       "        text-align: right;\n",
       "    }\n",
       "</style>\n",
       "<table border=\"1\" class=\"dataframe\">\n",
       "  <thead>\n",
       "    <tr style=\"text-align: right;\">\n",
       "      <th></th>\n",
       "      <th>word</th>\n",
       "      <th>count</th>\n",
       "    </tr>\n",
       "  </thead>\n",
       "  <tbody>\n",
       "    <tr>\n",
       "      <th>0</th>\n",
       "      <td>!</td>\n",
       "      <td>48</td>\n",
       "    </tr>\n",
       "    <tr>\n",
       "      <th>1</th>\n",
       "      <td>!!</td>\n",
       "      <td>22</td>\n",
       "    </tr>\n",
       "    <tr>\n",
       "      <th>2</th>\n",
       "      <td>!!!</td>\n",
       "      <td>11</td>\n",
       "    </tr>\n",
       "    <tr>\n",
       "      <th>3</th>\n",
       "      <td>!!!!</td>\n",
       "      <td>3</td>\n",
       "    </tr>\n",
       "    <tr>\n",
       "      <th>4</th>\n",
       "      <td>!!!!!</td>\n",
       "      <td>3</td>\n",
       "    </tr>\n",
       "    <tr>\n",
       "      <th>...</th>\n",
       "      <td>...</td>\n",
       "      <td>...</td>\n",
       "    </tr>\n",
       "    <tr>\n",
       "      <th>30100</th>\n",
       "      <td>🙏</td>\n",
       "      <td>7</td>\n",
       "    </tr>\n",
       "    <tr>\n",
       "      <th>30101</th>\n",
       "      <td>🙏🙏🙏😢😢😢🙏🙏🙏</td>\n",
       "      <td>1</td>\n",
       "    </tr>\n",
       "    <tr>\n",
       "      <th>30102</th>\n",
       "      <td>🙏🙏🙏🙏🙏🙏🙏🙏🙏🙏🙏😢😢😢😢😢😢😢😢🙏🙏🙏🙏🙏🙏🙏🙏🙏🙏🙏🙏🙏🙏🙏🙏🙏🙏🙏🙏🙏</td>\n",
       "      <td>1</td>\n",
       "    </tr>\n",
       "    <tr>\n",
       "      <th>30103</th>\n",
       "      <td>🚫</td>\n",
       "      <td>1</td>\n",
       "    </tr>\n",
       "    <tr>\n",
       "      <th>30104</th>\n",
       "      <td>🚶🚶🚶🚶</td>\n",
       "      <td>1</td>\n",
       "    </tr>\n",
       "  </tbody>\n",
       "</table>\n",
       "<p>30105 rows × 2 columns</p>\n",
       "</div>"
      ],
      "text/plain": [
       "                                           word  count\n",
       "0                                             !     48\n",
       "1                                            !!     22\n",
       "2                                           !!!     11\n",
       "3                                          !!!!      3\n",
       "4                                         !!!!!      3\n",
       "...                                         ...    ...\n",
       "30100                                         🙏      7\n",
       "30101                                 🙏🙏🙏😢😢😢🙏🙏🙏      1\n",
       "30102  🙏🙏🙏🙏🙏🙏🙏🙏🙏🙏🙏😢😢😢😢😢😢😢😢🙏🙏🙏🙏🙏🙏🙏🙏🙏🙏🙏🙏🙏🙏🙏🙏🙏🙏🙏🙏🙏      1\n",
       "30103                                         🚫      1\n",
       "30104                                      🚶🚶🚶🚶      1\n",
       "\n",
       "[30105 rows x 2 columns]"
      ]
     },
     "execution_count": 4,
     "metadata": {},
     "output_type": "execute_result"
    }
   ],
   "source": [
    "words.groupby(\"word\")\\\n",
    "     .size()\\\n",
    "     .reset_index(name=\"count\")"
   ]
  },
  {
   "cell_type": "markdown",
   "metadata": {},
   "source": [
    "Our dataset is built from 30105 unique words. As we may see, there are some common issues:\n",
    "* lowercase and uppercase written words are different to our system\n",
    "* as our dataset is taken from Twitter, there are a lot of hashtags and mentions of other users\n",
    "* duplicated emojis form separate words - 😭😭😭 and 😭😭😭😭 are completely different, even though from human perspective they're almost the same\n",
    "* some words are embraced with quotation marks\n",
    "* there are a lot of duplicated exclamation, question marks, etc.\n",
    "* spaces are not put correctly - for instance, somebody didn't use space after a dot\n",
    "\n",
    "We need to preprocess the dataset to get rid of all these issues, which may be confusing in our further processing."
   ]
  },
  {
   "cell_type": "code",
   "execution_count": 5,
   "metadata": {
    "ExecuteTime": {
     "end_time": "2019-12-03T09:28:26.554268Z",
     "start_time": "2019-12-03T09:28:26.539065Z"
    }
   },
   "outputs": [],
   "source": [
    "import re\n",
    "\n",
    "# https://gist.github.com/Alex-Just/e86110836f3f93fe7932290526529cd1\n",
    "EMOJI_REGEX = re.compile(\"([\\U00010000-\\U0010ffff])\", re.UNICODE)\n",
    "DUPLICATED_SYMBOL_REGEX = re.compile(r\"([^a-z0-9])\\1+\", re.UNICODE | re.I)\n",
    "PUNCTUATION_MARKS_REGEX = re.compile(r\"([,\\.\\!\\?\\[\\]\\(\\)])\", re.UNICODE)\n",
    "\n",
    "\n",
    "def preprocess_text(raw_text):\n",
    "    # Convert all the letters to lowercase\n",
    "    text = raw_text.lower()\n",
    "    # Remove hashtag symbol and \"at\" for user mentions\n",
    "    text = text.replace(\"#\", \"\")\n",
    "    text = text.replace(\"@\", \"\")\n",
    "    # Divide the emojis written in a row with spaces\n",
    "    text = EMOJI_REGEX.sub(\"\\\\1 \", text)\n",
    "    # Remove quotation marks\n",
    "    text = text.replace(\"\\\"\", \"\")\n",
    "    text = text.replace(\"'\", \"\")\n",
    "    # Get rid of the misused spaces by\n",
    "    text = PUNCTUATION_MARKS_REGEX.sub(\" \\\\1 \", text)\n",
    "    # Divide duplicated characters, so after text split they'll be treated\n",
    "    # as if they were a single character used a couple of times\n",
    "    text = DUPLICATED_SYMBOL_REGEX.sub(\"\\\\1\", text)\n",
    "    # Return preprocessed value\n",
    "    return text"
   ]
  },
  {
   "cell_type": "markdown",
   "metadata": {},
   "source": [
    "We have the logic for a simple preprocessing prepared, so let's see how it affects the dictionary."
   ]
  },
  {
   "cell_type": "code",
   "execution_count": 6,
   "metadata": {
    "ExecuteTime": {
     "end_time": "2019-12-03T09:28:33.564256Z",
     "start_time": "2019-12-03T09:28:29.631232Z"
    }
   },
   "outputs": [
    {
     "data": {
      "text/html": [
       "<div>\n",
       "<style scoped>\n",
       "    .dataframe tbody tr th:only-of-type {\n",
       "        vertical-align: middle;\n",
       "    }\n",
       "\n",
       "    .dataframe tbody tr th {\n",
       "        vertical-align: top;\n",
       "    }\n",
       "\n",
       "    .dataframe thead th {\n",
       "        text-align: right;\n",
       "    }\n",
       "</style>\n",
       "<table border=\"1\" class=\"dataframe\">\n",
       "  <thead>\n",
       "    <tr style=\"text-align: right;\">\n",
       "      <th></th>\n",
       "      <th>word</th>\n",
       "      <th>count</th>\n",
       "    </tr>\n",
       "  </thead>\n",
       "  <tbody>\n",
       "    <tr>\n",
       "      <th>0</th>\n",
       "      <td>!</td>\n",
       "      <td>5312</td>\n",
       "    </tr>\n",
       "    <tr>\n",
       "      <th>1</th>\n",
       "      <td>$</td>\n",
       "      <td>47</td>\n",
       "    </tr>\n",
       "    <tr>\n",
       "      <th>2</th>\n",
       "      <td>$&amp;amp;</td>\n",
       "      <td>1</td>\n",
       "    </tr>\n",
       "    <tr>\n",
       "      <th>3</th>\n",
       "      <td>$+</td>\n",
       "      <td>1</td>\n",
       "    </tr>\n",
       "    <tr>\n",
       "      <th>4</th>\n",
       "      <td>$0</td>\n",
       "      <td>3</td>\n",
       "    </tr>\n",
       "    <tr>\n",
       "      <th>...</th>\n",
       "      <td>...</td>\n",
       "      <td>...</td>\n",
       "    </tr>\n",
       "    <tr>\n",
       "      <th>17156</th>\n",
       "      <td>🙌</td>\n",
       "      <td>6</td>\n",
       "    </tr>\n",
       "    <tr>\n",
       "      <th>17157</th>\n",
       "      <td>🙏</td>\n",
       "      <td>119</td>\n",
       "    </tr>\n",
       "    <tr>\n",
       "      <th>17158</th>\n",
       "      <td>🚪</td>\n",
       "      <td>1</td>\n",
       "    </tr>\n",
       "    <tr>\n",
       "      <th>17159</th>\n",
       "      <td>🚫</td>\n",
       "      <td>1</td>\n",
       "    </tr>\n",
       "    <tr>\n",
       "      <th>17160</th>\n",
       "      <td>🚶</td>\n",
       "      <td>4</td>\n",
       "    </tr>\n",
       "  </tbody>\n",
       "</table>\n",
       "<p>17161 rows × 2 columns</p>\n",
       "</div>"
      ],
      "text/plain": [
       "         word  count\n",
       "0           !   5312\n",
       "1           $     47\n",
       "2      $&amp;      1\n",
       "3          $+      1\n",
       "4          $0      3\n",
       "...       ...    ...\n",
       "17156       🙌      6\n",
       "17157       🙏    119\n",
       "17158       🚪      1\n",
       "17159       🚫      1\n",
       "17160       🚶      4\n",
       "\n",
       "[17161 rows x 2 columns]"
      ]
     },
     "execution_count": 6,
     "metadata": {},
     "output_type": "execute_result"
    }
   ],
   "source": [
    "# Divide each tweet by its words, but perform the preprocessing first\n",
    "tweet_words = tweets[\"text\"].apply(preprocess_text).str.split()\n",
    "# Chain all the lists into one Series object\n",
    "words = tweet_words.apply(pd.Series)\\\n",
    "                   .stack()\\\n",
    "                   .reset_index(drop=True)\\\n",
    "                   .to_frame(name=\"word\")\n",
    "words_occurences = words.groupby(\"word\").size().reset_index(name=\"count\")\n",
    "words_occurences"
   ]
  },
  {
   "cell_type": "markdown",
   "metadata": {},
   "source": [
    "We've succesfully reduced the dimensionality of our dictionary to 17161 words. The next step would be to analyze the words which have only one occurrence, in order to recoginze some more issues like spelling, etc."
   ]
  },
  {
   "cell_type": "code",
   "execution_count": 7,
   "metadata": {
    "ExecuteTime": {
     "end_time": "2019-12-03T09:28:33.575119Z",
     "start_time": "2019-12-03T09:28:33.565776Z"
    },
    "scrolled": false
   },
   "outputs": [
    {
     "data": {
      "text/html": [
       "<div>\n",
       "<style scoped>\n",
       "    .dataframe tbody tr th:only-of-type {\n",
       "        vertical-align: middle;\n",
       "    }\n",
       "\n",
       "    .dataframe tbody tr th {\n",
       "        vertical-align: top;\n",
       "    }\n",
       "\n",
       "    .dataframe thead th {\n",
       "        text-align: right;\n",
       "    }\n",
       "</style>\n",
       "<table border=\"1\" class=\"dataframe\">\n",
       "  <thead>\n",
       "    <tr style=\"text-align: right;\">\n",
       "      <th></th>\n",
       "      <th>word</th>\n",
       "      <th>count</th>\n",
       "    </tr>\n",
       "  </thead>\n",
       "  <tbody>\n",
       "    <tr>\n",
       "      <th>2</th>\n",
       "      <td>$&amp;amp;</td>\n",
       "      <td>1</td>\n",
       "    </tr>\n",
       "    <tr>\n",
       "      <th>3</th>\n",
       "      <td>$+</td>\n",
       "      <td>1</td>\n",
       "    </tr>\n",
       "    <tr>\n",
       "      <th>9</th>\n",
       "      <td>$1000cost-</td>\n",
       "      <td>1</td>\n",
       "    </tr>\n",
       "    <tr>\n",
       "      <th>10</th>\n",
       "      <td>$1038</td>\n",
       "      <td>1</td>\n",
       "    </tr>\n",
       "    <tr>\n",
       "      <th>11</th>\n",
       "      <td>$1051</td>\n",
       "      <td>1</td>\n",
       "    </tr>\n",
       "    <tr>\n",
       "      <th>...</th>\n",
       "      <td>...</td>\n",
       "      <td>...</td>\n",
       "    </tr>\n",
       "    <tr>\n",
       "      <th>17150</th>\n",
       "      <td>😵</td>\n",
       "      <td>1</td>\n",
       "    </tr>\n",
       "    <tr>\n",
       "      <th>17154</th>\n",
       "      <td>🙈</td>\n",
       "      <td>1</td>\n",
       "    </tr>\n",
       "    <tr>\n",
       "      <th>17155</th>\n",
       "      <td>🙉</td>\n",
       "      <td>1</td>\n",
       "    </tr>\n",
       "    <tr>\n",
       "      <th>17158</th>\n",
       "      <td>🚪</td>\n",
       "      <td>1</td>\n",
       "    </tr>\n",
       "    <tr>\n",
       "      <th>17159</th>\n",
       "      <td>🚫</td>\n",
       "      <td>1</td>\n",
       "    </tr>\n",
       "  </tbody>\n",
       "</table>\n",
       "<p>10333 rows × 2 columns</p>\n",
       "</div>"
      ],
      "text/plain": [
       "             word  count\n",
       "2          $&amp;      1\n",
       "3              $+      1\n",
       "9      $1000cost-      1\n",
       "10          $1038      1\n",
       "11          $1051      1\n",
       "...           ...    ...\n",
       "17150           😵      1\n",
       "17154           🙈      1\n",
       "17155           🙉      1\n",
       "17158           🚪      1\n",
       "17159           🚫      1\n",
       "\n",
       "[10333 rows x 2 columns]"
      ]
     },
     "execution_count": 7,
     "metadata": {},
     "output_type": "execute_result"
    }
   ],
   "source": [
    "words_occurences[words_occurences[\"count\"] == 1]"
   ]
  },
  {
   "cell_type": "markdown",
   "metadata": {},
   "source": [
    "It seems we have a lot of similar entries, words starting with dolar sign, for instance. Let's group the words by their first letter and see if there is something we can correct in the data."
   ]
  },
  {
   "cell_type": "code",
   "execution_count": 8,
   "metadata": {
    "ExecuteTime": {
     "end_time": "2019-12-03T09:28:38.041973Z",
     "start_time": "2019-12-03T09:28:37.896220Z"
    },
    "scrolled": false
   },
   "outputs": [
    {
     "data": {
      "text/html": [
       "<div>\n",
       "<style scoped>\n",
       "    .dataframe tbody tr th:only-of-type {\n",
       "        vertical-align: middle;\n",
       "    }\n",
       "\n",
       "    .dataframe tbody tr th {\n",
       "        vertical-align: top;\n",
       "    }\n",
       "\n",
       "    .dataframe thead th {\n",
       "        text-align: right;\n",
       "    }\n",
       "</style>\n",
       "<table border=\"1\" class=\"dataframe\">\n",
       "  <thead>\n",
       "    <tr style=\"text-align: right;\">\n",
       "      <th></th>\n",
       "      <th>word</th>\n",
       "    </tr>\n",
       "  </thead>\n",
       "  <tbody>\n",
       "    <tr>\n",
       "      <th>$</th>\n",
       "      <td>[$&amp;amp;, $+, $1000cost-, $1038, $1051, $10vouc...</td>\n",
       "    </tr>\n",
       "    <tr>\n",
       "      <th>%</th>\n",
       "      <td>[%]</td>\n",
       "    </tr>\n",
       "    <tr>\n",
       "      <th>&amp;</th>\n",
       "      <td>[&amp;amp;$250, &amp;amp;&amp;amp;, &amp;amp;feel, &amp;amp;only, ...</td>\n",
       "    </tr>\n",
       "    <tr>\n",
       "      <th>*</th>\n",
       "      <td>[*alliance, *any, *anything*, *bops, *cough*, ...</td>\n",
       "    </tr>\n",
       "    <tr>\n",
       "      <th>+</th>\n",
       "      <td>[+$400/ticket, +-10pm, +1-703-464-0200, +20min...</td>\n",
       "    </tr>\n",
       "    <tr>\n",
       "      <th>...</th>\n",
       "      <td>...</td>\n",
       "    </tr>\n",
       "    <tr>\n",
       "      <th>😵</th>\n",
       "      <td>[😵]</td>\n",
       "    </tr>\n",
       "    <tr>\n",
       "      <th>🙈</th>\n",
       "      <td>[🙈]</td>\n",
       "    </tr>\n",
       "    <tr>\n",
       "      <th>🙉</th>\n",
       "      <td>[🙉]</td>\n",
       "    </tr>\n",
       "    <tr>\n",
       "      <th>🚪</th>\n",
       "      <td>[🚪]</td>\n",
       "    </tr>\n",
       "    <tr>\n",
       "      <th>🚫</th>\n",
       "      <td>[🚫]</td>\n",
       "    </tr>\n",
       "  </tbody>\n",
       "</table>\n",
       "<p>101 rows × 1 columns</p>\n",
       "</div>"
      ],
      "text/plain": [
       "                                                 word\n",
       "$   [$&amp;, $+, $1000cost-, $1038, $1051, $10vouc...\n",
       "%                                                 [%]\n",
       "&   [&amp;$250, &amp;&amp;, &amp;feel, &amp;only, ...\n",
       "*   [*alliance, *any, *anything*, *bops, *cough*, ...\n",
       "+   [+$400/ticket, +-10pm, +1-703-464-0200, +20min...\n",
       "..                                                ...\n",
       "😵                                                 [😵]\n",
       "🙈                                                 [🙈]\n",
       "🙉                                                 [🙉]\n",
       "🚪                                                 [🚪]\n",
       "🚫                                                 [🚫]\n",
       "\n",
       "[101 rows x 1 columns]"
      ]
     },
     "execution_count": 8,
     "metadata": {},
     "output_type": "execute_result"
    }
   ],
   "source": [
    "words_occurences[words_occurences[\"count\"] == 1]\\\n",
    "    .groupby(lambda idx: words_occurences[\"word\"][idx][0])[\"word\"]\\\n",
    "    .apply(list)\\\n",
    "    .to_frame()"
   ]
  },
  {
   "cell_type": "markdown",
   "metadata": {},
   "source": [
    "From the human point of view, use of some diactric marks is an useful piece of information, when it comes to the meaning of a particular sentence, so we are going to keep them."
   ]
  },
  {
   "cell_type": "markdown",
   "metadata": {},
   "source": [
    "## Exercise\n",
    "\n",
    "As we see, there are some more issues with the data, for instance:\n",
    "- html entities are encoded (< as &amp;lt;, > as &amp;gt;, etc.)\n",
    "- leading special characters, like ❤️from, :arrived, =we, /dying, \\*any\n",
    "\n",
    "The goal of this exercise is to review the dictionary once again to find some more issues, and to include the corrections for all the found problems in our **preprocess_text** function. The source code may be found in *exercise/exercise_01.py*. Please modify the file with your changes before going further."
   ]
  },
  {
   "cell_type": "code",
   "execution_count": 9,
   "metadata": {
    "ExecuteTime": {
     "end_time": "2019-12-03T09:28:46.542066Z",
     "start_time": "2019-12-03T09:28:46.535197Z"
    }
   },
   "outputs": [],
   "source": [
    "%run exercise/exercise_01.py"
   ]
  },
  {
   "cell_type": "code",
   "execution_count": 10,
   "metadata": {
    "ExecuteTime": {
     "end_time": "2019-12-03T09:28:50.661112Z",
     "start_time": "2019-12-03T09:28:47.072747Z"
    },
    "scrolled": false
   },
   "outputs": [
    {
     "data": {
      "text/html": [
       "<div>\n",
       "<style scoped>\n",
       "    .dataframe tbody tr th:only-of-type {\n",
       "        vertical-align: middle;\n",
       "    }\n",
       "\n",
       "    .dataframe tbody tr th {\n",
       "        vertical-align: top;\n",
       "    }\n",
       "\n",
       "    .dataframe thead th {\n",
       "        text-align: right;\n",
       "    }\n",
       "</style>\n",
       "<table border=\"1\" class=\"dataframe\">\n",
       "  <thead>\n",
       "    <tr style=\"text-align: right;\">\n",
       "      <th></th>\n",
       "      <th>word</th>\n",
       "      <th>count</th>\n",
       "    </tr>\n",
       "  </thead>\n",
       "  <tbody>\n",
       "    <tr>\n",
       "      <th>237</th>\n",
       "      <td>.</td>\n",
       "      <td>19104</td>\n",
       "    </tr>\n",
       "    <tr>\n",
       "      <th>15270</th>\n",
       "      <td>to</td>\n",
       "      <td>8644</td>\n",
       "    </tr>\n",
       "    <tr>\n",
       "      <th>15045</th>\n",
       "      <td>the</td>\n",
       "      <td>6055</td>\n",
       "    </tr>\n",
       "    <tr>\n",
       "      <th>9064</th>\n",
       "      <td>i</td>\n",
       "      <td>5407</td>\n",
       "    </tr>\n",
       "    <tr>\n",
       "      <th>0</th>\n",
       "      <td>!</td>\n",
       "      <td>5312</td>\n",
       "    </tr>\n",
       "    <tr>\n",
       "      <th>...</th>\n",
       "      <td>...</td>\n",
       "      <td>...</td>\n",
       "    </tr>\n",
       "    <tr>\n",
       "      <th>10165</th>\n",
       "      <td>limits</td>\n",
       "      <td>1</td>\n",
       "    </tr>\n",
       "    <tr>\n",
       "      <th>10166</th>\n",
       "      <td>lin</td>\n",
       "      <td>1</td>\n",
       "    </tr>\n",
       "    <tr>\n",
       "      <th>10167</th>\n",
       "      <td>lindaswc</td>\n",
       "      <td>1</td>\n",
       "    </tr>\n",
       "    <tr>\n",
       "      <th>10168</th>\n",
       "      <td>lindsay</td>\n",
       "      <td>1</td>\n",
       "    </tr>\n",
       "    <tr>\n",
       "      <th>8580</th>\n",
       "      <td>guyana</td>\n",
       "      <td>1</td>\n",
       "    </tr>\n",
       "  </tbody>\n",
       "</table>\n",
       "<p>17161 rows × 2 columns</p>\n",
       "</div>"
      ],
      "text/plain": [
       "           word  count\n",
       "237           .  19104\n",
       "15270        to   8644\n",
       "15045       the   6055\n",
       "9064          i   5407\n",
       "0             !   5312\n",
       "...         ...    ...\n",
       "10165    limits      1\n",
       "10166       lin      1\n",
       "10167  lindaswc      1\n",
       "10168   lindsay      1\n",
       "8580     guyana      1\n",
       "\n",
       "[17161 rows x 2 columns]"
      ]
     },
     "execution_count": 10,
     "metadata": {},
     "output_type": "execute_result"
    }
   ],
   "source": [
    "import pandas as pd\n",
    "\n",
    "# Divide each tweet by its words, but perform the preprocessing first\n",
    "tweet_words = tweets[\"text\"].apply(preprocess_text).str.split()\n",
    "# Chain all the lists into one Series object\n",
    "words = tweet_words.apply(pd.Series)\\\n",
    "                   .stack()\\\n",
    "                   .reset_index(drop=True)\\\n",
    "                   .to_frame(name=\"word\")\n",
    "words_occurences = words.groupby(\"word\")\\\n",
    "                        .size()\\\n",
    "                        .reset_index(name=\"count\")\n",
    "words_occurences.sort_values(\"count\", ascending=False)"
   ]
  },
  {
   "cell_type": "code",
   "execution_count": 11,
   "metadata": {
    "ExecuteTime": {
     "end_time": "2019-12-03T09:28:50.926084Z",
     "start_time": "2019-12-03T09:28:50.662524Z"
    }
   },
   "outputs": [
    {
     "data": {
      "text/html": [
       "<div>\n",
       "<style scoped>\n",
       "    .dataframe tbody tr th:only-of-type {\n",
       "        vertical-align: middle;\n",
       "    }\n",
       "\n",
       "    .dataframe tbody tr th {\n",
       "        vertical-align: top;\n",
       "    }\n",
       "\n",
       "    .dataframe thead th {\n",
       "        text-align: right;\n",
       "    }\n",
       "</style>\n",
       "<table border=\"1\" class=\"dataframe\">\n",
       "  <thead>\n",
       "    <tr style=\"text-align: right;\">\n",
       "      <th></th>\n",
       "      <th>word</th>\n",
       "    </tr>\n",
       "  </thead>\n",
       "  <tbody>\n",
       "    <tr>\n",
       "      <th>$</th>\n",
       "      <td>[$&amp;amp;, $+, $1000cost-, $1038, $1051, $10vouc...</td>\n",
       "    </tr>\n",
       "    <tr>\n",
       "      <th>%</th>\n",
       "      <td>[%]</td>\n",
       "    </tr>\n",
       "    <tr>\n",
       "      <th>&amp;</th>\n",
       "      <td>[&amp;amp;$250, &amp;amp;&amp;amp;, &amp;amp;feel, &amp;amp;only, ...</td>\n",
       "    </tr>\n",
       "    <tr>\n",
       "      <th>*</th>\n",
       "      <td>[*alliance, *any, *anything*, *bops, *cough*, ...</td>\n",
       "    </tr>\n",
       "    <tr>\n",
       "      <th>+</th>\n",
       "      <td>[+$400/ticket, +-10pm, +1-703-464-0200, +20min...</td>\n",
       "    </tr>\n",
       "    <tr>\n",
       "      <th>...</th>\n",
       "      <td>...</td>\n",
       "    </tr>\n",
       "    <tr>\n",
       "      <th>😵</th>\n",
       "      <td>[😵]</td>\n",
       "    </tr>\n",
       "    <tr>\n",
       "      <th>🙈</th>\n",
       "      <td>[🙈]</td>\n",
       "    </tr>\n",
       "    <tr>\n",
       "      <th>🙉</th>\n",
       "      <td>[🙉]</td>\n",
       "    </tr>\n",
       "    <tr>\n",
       "      <th>🚪</th>\n",
       "      <td>[🚪]</td>\n",
       "    </tr>\n",
       "    <tr>\n",
       "      <th>🚫</th>\n",
       "      <td>[🚫]</td>\n",
       "    </tr>\n",
       "  </tbody>\n",
       "</table>\n",
       "<p>101 rows × 1 columns</p>\n",
       "</div>"
      ],
      "text/plain": [
       "                                                 word\n",
       "$   [$&amp;, $+, $1000cost-, $1038, $1051, $10vouc...\n",
       "%                                                 [%]\n",
       "&   [&amp;$250, &amp;&amp;, &amp;feel, &amp;only, ...\n",
       "*   [*alliance, *any, *anything*, *bops, *cough*, ...\n",
       "+   [+$400/ticket, +-10pm, +1-703-464-0200, +20min...\n",
       "..                                                ...\n",
       "😵                                                 [😵]\n",
       "🙈                                                 [🙈]\n",
       "🙉                                                 [🙉]\n",
       "🚪                                                 [🚪]\n",
       "🚫                                                 [🚫]\n",
       "\n",
       "[101 rows x 1 columns]"
      ]
     },
     "execution_count": 11,
     "metadata": {},
     "output_type": "execute_result"
    }
   ],
   "source": [
    "words_occurences[words_occurences[\"count\"] == 1]\\\n",
    "    .groupby(lambda idx: words_occurences[\"word\"][idx][0])[\"word\"]\\\n",
    "    .apply(list)\\\n",
    "    .to_frame()"
   ]
  },
  {
   "cell_type": "code",
   "execution_count": null,
   "metadata": {},
   "outputs": [],
   "source": []
  }
 ],
 "metadata": {
  "kernelspec": {
   "display_name": "Python 3",
   "language": "python",
   "name": "python3"
  },
  "language_info": {
   "codemirror_mode": {
    "name": "ipython",
    "version": 3
   },
   "file_extension": ".py",
   "mimetype": "text/x-python",
   "name": "python",
   "nbconvert_exporter": "python",
   "pygments_lexer": "ipython3",
   "version": "3.6.8"
  }
 },
 "nbformat": 4,
 "nbformat_minor": 1
}
